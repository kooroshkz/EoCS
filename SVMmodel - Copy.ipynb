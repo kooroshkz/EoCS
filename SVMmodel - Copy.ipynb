{
 "cells": [
  {
   "cell_type": "code",
   "execution_count": null,
   "id": "71b7f118",
   "metadata": {},
   "outputs": [],
   "source": [
    "import cv2\n",
    "import numpy as np\n",
    "from sklearn.model_selection import train_test_split\n",
    "from sklearn.svm import SVC\n",
    "from sklearn.metrics import accuracy_score\n",
    "import os\n",
    "import joblib\n",
    "import time"
   ]
  },
  {
   "cell_type": "code",
   "execution_count": 2,
   "id": "7860221a",
   "metadata": {},
   "outputs": [],
   "source": [
    "def load_data():\n",
    "    data = []\n",
    "    labels = []\n",
    "\n",
    "    for i in range(4):\n",
    "        directory_path = os.path.join(os.getcwd(), 'dataset', str(i))\n",
    "        file_list = os.listdir(directory_path)\n",
    "        \n",
    "        for filename in file_list:\n",
    "            image_path = os.path.join(directory_path, filename)\n",
    "            image = cv2.imread(image_path, cv2.IMREAD_GRAYSCALE)\n",
    "            binary_image = preprocess_image(image)\n",
    "            features = extract_features(binary_image)\n",
    "            \n",
    "            data.append(features)\n",
    "            labels.append(i)\n",
    "\n",
    "    return np.array(data), np.array(labels)"
   ]
  },
  {
   "cell_type": "code",
   "execution_count": null,
   "metadata": {},
   "outputs": [],
   "source": []
  },
  {
   "cell_type": "code",
   "execution_count": 3,
   "id": "4893ffd1",
   "metadata": {},
   "outputs": [],
   "source": [
    "def preprocess_image(image):\n",
    "    resized_image = cv2.resize(image, (10, 10))\n",
    "    _, binary_image = cv2.threshold(resized_image, 128, 255, cv2.THRESH_BINARY)\n",
    "    return binary_image\n",
    "\n",
    "def extract_features(image):\n",
    "    features = image.flatten()\n",
    "    return features\n",
    "\n",
    "def train_classifier(data, labels):\n",
    "    X_train, X_test, y_train, y_test = train_test_split(data, labels, test_size=0.2, random_state=42)\n",
    "\n",
    "    classifier = SVC()\n",
    "\n",
    "    classifier.fit(X_train, y_train)\n",
    "\n",
    "    joblib.dump(classifier, 'svm_model.joblib')\n",
    "\n",
    "    predictions = classifier.predict(X_test)\n",
    "    accuracy = accuracy_score(y_test, predictions)\n",
    "    print(f\"Accuracy: {accuracy}\")\n",
    "\n",
    "    return classifier"
   ]
  },
  {
   "cell_type": "code",
   "execution_count": 4,
   "id": "8c201563",
   "metadata": {},
   "outputs": [],
   "source": [
    "def load_classifier(model_path='svm_model.joblib'):\n",
    "    return joblib.load(model_path)\n",
    "\n",
    "def process_image(image_path, classifier):\n",
    "    image = cv2.imread(image_path, cv2.IMREAD_GRAYSCALE)\n",
    "    processed_image = preprocess_image(image)\n",
    "    features = extract_features(processed_image)\n",
    "    number = classifier.predict([features])[0]\n",
    "    return number"
   ]
  },
  {
   "cell_type": "code",
   "execution_count": 5,
   "id": "ea212153",
   "metadata": {},
   "outputs": [
    {
     "name": "stdout",
     "output_type": "stream",
     "text": [
      "Accuracy: 0.9606921082775668\n",
      "Training time: 533.42 seconds\n",
      "The recognized number is: 1\n"
     ]
    }
   ],
   "source": [
    "if not os.path.exists('svm_model.joblib'):\n",
    "    start_time = time.time()\n",
    "    data, labels = load_data()\n",
    "    classifier = train_classifier(data, labels)\n",
    "    end_time = time.time()\n",
    "    training_time = end_time - start_time\n",
    "    print(f\"Training time: {training_time:.2f} seconds\")\n",
    "else:\n",
    "    classifier = load_classifier()\n",
    "\n",
    "image_path = 'guess/DIEGO.jpg'\n",
    "result = process_image(image_path, classifier)\n",
    "\n",
    "print(f\"The recognized number is: {result}\")"
   ]
  }
 ],
 "metadata": {
  "kernelspec": {
   "display_name": "Python 3 (ipykernel)",
   "language": "python",
   "name": "python3"
  },
  "language_info": {
   "codemirror_mode": {
    "name": "ipython",
    "version": 3
   },
   "file_extension": ".py",
   "mimetype": "text/x-python",
   "name": "python",
   "nbconvert_exporter": "python",
   "pygments_lexer": "ipython3",
   "version": "3.10.9"
  }
 },
 "nbformat": 4,
 "nbformat_minor": 5
}
